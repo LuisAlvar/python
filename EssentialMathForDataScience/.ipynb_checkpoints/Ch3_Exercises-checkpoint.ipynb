{
 "cells": [
  {
   "cell_type": "code",
   "execution_count": 2,
   "id": "d8e9c6f7-aa36-4919-a57d-1a1c5cfa0fa9",
   "metadata": {},
   "outputs": [
    {
     "name": "stdout",
     "output_type": "stream",
     "text": [
      "1.752\n",
      "0.02135415650406264\n"
     ]
    }
   ],
   "source": [
    "# Exercise 1\n",
    "from math import sqrt\n",
    "hand_measurements = [1.78, 1.75, 1.72, 1.74, 1.77]\n",
    "\n",
    "def variance(values):\n",
    "    mean = sum(values) / len(values)\n",
    "    _variance = sum((v-mean)**2 for v in values) / len(values)\n",
    "    return _variance\n",
    "\n",
    "def std_dev(values):\n",
    "    return sqrt(variance(values))\n",
    "\n",
    "mean = sum(hand_measurements)/len(hand_measurements)\n",
    "std = std_dev(hand_measurements)\n",
    "print(mean) # prints 1.752\n",
    "print(std)  # prints 0.02135415650406264"
   ]
  },
  {
   "cell_type": "code",
   "execution_count": null,
   "id": "b2c4b4d0-d929-43a7-9649-ac1aa91bb7c5",
   "metadata": {},
   "outputs": [],
   "source": []
  },
  {
   "cell_type": "code",
   "execution_count": null,
   "id": "92e9f143-22aa-4f18-a42b-1bf9fdc989f7",
   "metadata": {},
   "outputs": [],
   "source": []
  }
 ],
 "metadata": {
  "kernelspec": {
   "display_name": "Python 3 (ipykernel)",
   "language": "python",
   "name": "python3"
  },
  "language_info": {
   "codemirror_mode": {
    "name": "ipython",
    "version": 3
   },
   "file_extension": ".py",
   "mimetype": "text/x-python",
   "name": "python",
   "nbconvert_exporter": "python",
   "pygments_lexer": "ipython3",
   "version": "3.12.2"
  }
 },
 "nbformat": 4,
 "nbformat_minor": 5
}
