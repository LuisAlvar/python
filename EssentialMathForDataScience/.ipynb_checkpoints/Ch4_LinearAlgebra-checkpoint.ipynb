{
 "cells": [
  {
   "cell_type": "code",
   "execution_count": 173,
   "id": "3092705a-8a62-4153-a576-8296956040e3",
   "metadata": {},
   "outputs": [
    {
     "name": "stdout",
     "output_type": "stream",
     "text": [
      "[3, 2]\n"
     ]
    }
   ],
   "source": [
    "#Declare a vector in Python using a list\n",
    "v = [3,2]\n",
    "print(v)"
   ]
  },
  {
   "cell_type": "code",
   "execution_count": 174,
   "id": "7adbcc59-b7ab-4ca7-a52f-2f6d4bc3dff5",
   "metadata": {},
   "outputs": [
    {
     "name": "stdout",
     "output_type": "stream",
     "text": [
      "[3 2]\n"
     ]
    }
   ],
   "source": [
    "#Declare a vector in Python using Numpy\n",
    "import numpy as np \n",
    "v = np.array([3,2])\n",
    "print(v)"
   ]
  },
  {
   "cell_type": "code",
   "execution_count": 175,
   "id": "f68312c6-7765-4138-aa92-671a2e031398",
   "metadata": {},
   "outputs": [
    {
     "name": "stdout",
     "output_type": "stream",
     "text": [
      "[4 1 2]\n"
     ]
    }
   ],
   "source": [
    "# Declaring a three dimensional vector in Python using Numpy\n",
    "import numpy as np \n",
    "v = np.array([4,1,2])\n",
    "print(v)"
   ]
  },
  {
   "cell_type": "code",
   "execution_count": 176,
   "id": "53b88692-b56e-47dd-b3c7-7e636c311fc5",
   "metadata": {},
   "outputs": [
    {
     "name": "stdout",
     "output_type": "stream",
     "text": [
      "[6 1 5 8 3]\n"
     ]
    }
   ],
   "source": [
    "# Declaring a five dimensional vector in Python using Numpy\n",
    "import numpy as np \n",
    "v = np.array([6,1,5,8,3])\n",
    "print(v)"
   ]
  },
  {
   "cell_type": "code",
   "execution_count": 177,
   "id": "5f52eac9-aa2b-4c86-b074-529108799c91",
   "metadata": {},
   "outputs": [
    {
     "name": "stdout",
     "output_type": "stream",
     "text": [
      "[5 1]\n"
     ]
    }
   ],
   "source": [
    "# Adding two vectors in Python using Numpy\n",
    "from numpy import array\n",
    "v = array([3,2])\n",
    "w = array([2,-1])\n",
    "\n",
    "v_plus_w = v + w \n",
    "\n",
    "print(v_plus_w) #[5,1]"
   ]
  },
  {
   "cell_type": "code",
   "execution_count": 178,
   "id": "305dbb97",
   "metadata": {},
   "outputs": [
    {
     "name": "stdout",
     "output_type": "stream",
     "text": [
      "[6. 2.]\n"
     ]
    }
   ],
   "source": [
    "#Scaling a number in Python using Numpy\n",
    "from numpy import array\n",
    "v = array([3,1])\n",
    "\n",
    "scaled_v = 2.0 * v\n",
    "\n",
    "print(scaled_v) #[6,2]"
   ]
  },
  {
   "cell_type": "code",
   "execution_count": 179,
   "id": "d5d3a2a6",
   "metadata": {},
   "outputs": [
    {
     "name": "stdout",
     "output_type": "stream",
     "text": [
      "[3 2]\n"
     ]
    }
   ],
   "source": [
    "# Matrix vector multiplication in NumPy\n",
    "from numpy import array\n",
    "\n",
    "# compose basis matrix with i-hat and j-hat\n",
    "basis = array(\n",
    "  [[3,0],\n",
    "   [0,2]]\n",
    ")\n",
    "\n",
    "v = array([1,1])\n",
    "\n",
    "new_v = basis.dot(v)\n",
    "\n",
    "print(new_v) #[3,2]"
   ]
  },
  {
   "cell_type": "code",
   "execution_count": 180,
   "id": "c90c0ac8",
   "metadata": {},
   "outputs": [
    {
     "name": "stdout",
     "output_type": "stream",
     "text": [
      "[2 3]\n"
     ]
    }
   ],
   "source": [
    "# Separating the basis vectors and applying them as a transformation \n",
    "from numpy import array\n",
    "\n",
    "i_hat = array([2,0])\n",
    "j_hat = array([0,3])\n",
    "\n",
    "basis = array([i_hat,j_hat]).transpose()\n",
    "\n",
    "v = array([1,1])\n",
    "\n",
    "new_v = basis.dot(v)\n",
    "\n",
    "print(new_v) # [2,3]"
   ]
  },
  {
   "cell_type": "code",
   "execution_count": 181,
   "id": "816da7fb",
   "metadata": {},
   "outputs": [
    {
     "name": "stdout",
     "output_type": "stream",
     "text": [
      "[4 3]\n"
     ]
    }
   ],
   "source": [
    "# Transforming a vector using NumPy\n",
    "from numpy import array\n",
    "\n",
    "i_hat = array([2,0])\n",
    "j_hat = array([0,3])\n",
    "\n",
    "basis = array([i_hat, j_hat]).transpose()\n",
    "\n",
    "v = array([2,1])\n",
    "\n",
    "new_v = basis.dot(v)\n",
    "\n",
    "print(new_v) # [4,3]"
   ]
  },
  {
   "cell_type": "code",
   "execution_count": 182,
   "id": "4bab070b",
   "metadata": {},
   "outputs": [
    {
     "name": "stdout",
     "output_type": "stream",
     "text": [
      "[6 5]\n"
     ]
    }
   ],
   "source": [
    "#A more complicated transformation \n",
    "from numpy import array\n",
    "\n",
    "i_hat = array([2,3])\n",
    "j_hat = array([2,-1])\n",
    "\n",
    "basis = array([i_hat, j_hat]).transpose()\n",
    "\n",
    "v = array([2,1])\n",
    "\n",
    "new_v = basis.dot(v)\n",
    "\n",
    "print(new_v) # [6,5]"
   ]
  },
  {
   "cell_type": "code",
   "execution_count": 183,
   "id": "f50fded4",
   "metadata": {},
   "outputs": [
    {
     "name": "stdout",
     "output_type": "stream",
     "text": [
      "[-1  1]\n"
     ]
    }
   ],
   "source": [
    "# Combining two transformations\n",
    "from numpy import array\n",
    "\n",
    "# Transformation 1\n",
    "i_hat1 = array([0,1])\n",
    "j_hat1 = array([-1,0]) \n",
    "transform1 = array([i_hat1, j_hat1]).transpose()\n",
    "\n",
    "# Transformation 2\n",
    "i_hat2 = array([1,0])\n",
    "j_hat2 = array([1,1])\n",
    "transform2 = array([i_hat2, j_hat2]).transpose()\n",
    "\n",
    "v = array([1,2])\n",
    "\n",
    "rotated = transform1.dot(v)\n",
    "sheered = transform2.dot(rotated)\n",
    "#combined = transform2 @ transform1\n",
    "#print(\"COMBINED MATRIX:\\n {}\".format(combined))\n",
    "#print(combined.dot(v))\n",
    "\n",
    "print(sheered) # [-1,1]"
   ]
  },
  {
   "cell_type": "code",
   "execution_count": 184,
   "id": "c410b842",
   "metadata": {},
   "outputs": [
    {
     "name": "stdout",
     "output_type": "stream",
     "text": [
      "COMBINED MATRIX:\n",
      " [[ 0 -1]\n",
      " [ 1  1]]\n",
      "[-2  3]\n"
     ]
    }
   ],
   "source": [
    "# Applying the transformation in reverse\n",
    "from numpy import array\n",
    "\n",
    "# Transformation 1\n",
    "i_hat1 = array([0,1])\n",
    "j_hat1 = array([-1,0]) \n",
    "transform1 = array([i_hat1, j_hat1]).transpose()\n",
    "\n",
    "# Transformation 2\n",
    "i_hat2 = array([1,0])\n",
    "j_hat2 = array([1,1])\n",
    "transform2 = array([i_hat2, j_hat2]).transpose()\n",
    "\n",
    "v = array([1,2])\n",
    "combined = transform1 @ transform2\n",
    "\n",
    "print(\"COMBINED MATRIX:\\n {}\".format(combined))\n",
    "print(combined.dot(v))"
   ]
  },
  {
   "cell_type": "code",
   "execution_count": 185,
   "id": "e6ec9dc9",
   "metadata": {},
   "outputs": [
    {
     "name": "stdout",
     "output_type": "stream",
     "text": [
      "6.0\n"
     ]
    }
   ],
   "source": [
    "# Calculating a determinant \n",
    "from numpy.linalg import det\n",
    "from numpy import array\n",
    "\n",
    "i_hat = array([3,0])\n",
    "j_hat = array([0,2])\n",
    "\n",
    "basis = array([i_hat, j_hat]).transpose()\n",
    "\n",
    "determinant = det(basis)\n",
    "\n",
    "print(determinant) # print 6.0"
   ]
  },
  {
   "cell_type": "code",
   "execution_count": 186,
   "id": "34ede9d6",
   "metadata": {},
   "outputs": [
    {
     "name": "stdout",
     "output_type": "stream",
     "text": [
      "1.0\n"
     ]
    }
   ],
   "source": [
    "# A determinant for a shear \n",
    "from numpy.linalg import det\n",
    "from numpy import array \n",
    "\n",
    "i_hat = array([1,0])\n",
    "j_hat = array([1,1])\n",
    "\n",
    "basis = array([i_hat, j_hat]).transpose()\n",
    "\n",
    "determinant = det(basis)\n",
    "\n",
    "print(determinant) # print 1.0"
   ]
  },
  {
   "cell_type": "code",
   "execution_count": 187,
   "id": "48e40552",
   "metadata": {},
   "outputs": [
    {
     "name": "stdout",
     "output_type": "stream",
     "text": [
      "-5.000000000000001\n"
     ]
    }
   ],
   "source": [
    "# A negative determinant\n",
    "from numpy.linalg import det\n",
    "from numpy import array \n",
    "\n",
    "i_hat = array([-2, 1])\n",
    "j_hat = array([1, 2])\n",
    "\n",
    "basis = array([i_hat, j_hat]).transpose()\n",
    "\n",
    "determinant = det(basis)\n",
    "\n",
    "print(determinant) # print -5.0"
   ]
  },
  {
   "cell_type": "code",
   "execution_count": 188,
   "id": "cb5397ca",
   "metadata": {},
   "outputs": [
    {
     "name": "stdout",
     "output_type": "stream",
     "text": [
      "0.0\n"
     ]
    }
   ],
   "source": [
    "# A determinant of zero\n",
    "from numpy.linalg import det\n",
    "from numpy import array \n",
    "\n",
    "i_hat = array([-2,1])\n",
    "j_hat = array([3,-1.5])\n",
    "\n",
    "basis = array([i_hat, j_hat]).transpose()\n",
    "\n",
    "determinant = det(basis)\n",
    "\n",
    "print(determinant) # prints 0.0"
   ]
  },
  {
   "cell_type": "code",
   "execution_count": 189,
   "id": "2aed9299",
   "metadata": {},
   "outputs": [
    {
     "name": "stdout",
     "output_type": "stream",
     "text": [
      "INVERSE: Matrix([[-1/2, 0, 1/3], [11/2, -2, -4/3], [-2, 1, 1/3]])\n",
      "IDENTITY: Matrix([[1, 0, 0], [0, 1, 0], [0, 0, 1]])\n"
     ]
    }
   ],
   "source": [
    "# Using SymPy to study the inverse and identity matrix\n",
    "from sympy import *\n",
    "\n",
    "A = Matrix([\n",
    "  [4,2,4],\n",
    "  [5,3,7],\n",
    "  [9,3,6]\n",
    "])\n",
    "\n",
    "inverse = A.inv()\n",
    "identity = inverse * A\n",
    "\n",
    "print(\"INVERSE: {}\".format(inverse))\n",
    "\n",
    "print(\"IDENTITY: {}\".format(identity))\n"
   ]
  },
  {
   "cell_type": "code",
   "execution_count": 190,
   "id": "3054fd2c",
   "metadata": {},
   "outputs": [
    {
     "name": "stdout",
     "output_type": "stream",
     "text": [
      "[ 2. 34. -8.]\n"
     ]
    }
   ],
   "source": [
    "# Using NumPy to solve a system of equations\n",
    "from numpy import array\n",
    "from numpy.linalg import inv\n",
    "\n",
    "A = array([\n",
    "  [4,2,4],\n",
    "  [5,3,7],\n",
    "  [9,3,6]\n",
    "])\n",
    "\n",
    "B = array([\n",
    "  44,\n",
    "  56,\n",
    "  72\n",
    "])\n",
    "\n",
    "X = inv(A).dot(B)\n",
    "\n",
    "print(X)"
   ]
  },
  {
   "cell_type": "code",
   "execution_count": 191,
   "id": "12ace635",
   "metadata": {},
   "outputs": [
    {
     "name": "stdout",
     "output_type": "stream",
     "text": [
      "Matrix([[2], [34], [-8]])\n"
     ]
    }
   ],
   "source": [
    "# Using SymPy to solve a system of equations\n",
    "from sympy import *\n",
    "\n",
    "A = Matrix([\n",
    "  [4,2,4],\n",
    "  [5,3,7],\n",
    "  [9,3,6]\n",
    "])\n",
    "\n",
    "B = Matrix([\n",
    "  44,\n",
    "  56,\n",
    "  72\n",
    "])\n",
    "\n",
    "X = A.inv() * B\n",
    "\n",
    "print(X)"
   ]
  },
  {
   "cell_type": "code",
   "execution_count": 192,
   "id": "5401f632",
   "metadata": {},
   "outputs": [
    {
     "ename": "TypeError",
     "evalue": "Field elements must be 2- or 3-tuples, got '4'",
     "output_type": "error",
     "traceback": [
      "\u001b[1;31m---------------------------------------------------------------------------\u001b[0m",
      "\u001b[1;31mTypeError\u001b[0m                                 Traceback (most recent call last)",
      "Cell \u001b[1;32mIn[192], line 5\u001b[0m\n\u001b[0;32m      2\u001b[0m \u001b[38;5;28;01mfrom\u001b[39;00m \u001b[38;5;21;01mnumpy\u001b[39;00m \u001b[38;5;28;01mimport\u001b[39;00m array, diag\n\u001b[0;32m      3\u001b[0m \u001b[38;5;28;01mfrom\u001b[39;00m \u001b[38;5;21;01mnumpy\u001b[39;00m\u001b[38;5;21;01m.\u001b[39;00m\u001b[38;5;21;01mlinalg\u001b[39;00m \u001b[38;5;28;01mimport\u001b[39;00m eig, inv\n\u001b[1;32m----> 5\u001b[0m A \u001b[38;5;241m=\u001b[39m \u001b[43marray\u001b[49m\u001b[43m(\u001b[49m\n\u001b[0;32m      6\u001b[0m \u001b[43m  \u001b[49m\u001b[43m[\u001b[49m\u001b[38;5;241;43m1\u001b[39;49m\u001b[43m,\u001b[49m\u001b[38;5;241;43m2\u001b[39;49m\u001b[43m]\u001b[49m\u001b[43m,\u001b[49m\n\u001b[0;32m      7\u001b[0m \u001b[43m  \u001b[49m\u001b[43m[\u001b[49m\u001b[38;5;241;43m4\u001b[39;49m\u001b[43m,\u001b[49m\u001b[38;5;241;43m5\u001b[39;49m\u001b[43m]\u001b[49m\n\u001b[0;32m      8\u001b[0m \u001b[43m)\u001b[49m\n\u001b[0;32m     10\u001b[0m eigenvals, eigenvecs \u001b[38;5;241m=\u001b[39m eig(A)\n\u001b[0;32m     12\u001b[0m \u001b[38;5;28mprint\u001b[39m(\u001b[38;5;124m\"\u001b[39m\u001b[38;5;124mEIGENVALUES\u001b[39m\u001b[38;5;124m\"\u001b[39m)\n",
      "\u001b[1;31mTypeError\u001b[0m: Field elements must be 2- or 3-tuples, got '4'"
     ]
    }
   ],
   "source": [
    "# Performing eigendecomposition in NumPy\n",
    "from numpy import array, diag\n",
    "from numpy.linalg import eig, inv\n",
    "\n",
    "A = array([\n",
    "  [1,2],\n",
    "  [4,5]\n",
    "])\n",
    "\n",
    "eigenvals, eigenvecs = eig(A)\n",
    "\n",
    "print(\"EIGENVALUES\")\n",
    "print(eigenvals)\n",
    "print(\"\\nEIGENVECTORS\")\n",
    "print(eigenvecs)\n",
    "\n"
   ]
  }
 ],
 "metadata": {
  "kernelspec": {
   "display_name": "Python 3 (ipykernel)",
   "language": "python",
   "name": "python3"
  },
  "language_info": {
   "codemirror_mode": {
    "name": "ipython",
    "version": 3
   },
   "file_extension": ".py",
   "mimetype": "text/x-python",
   "name": "python",
   "nbconvert_exporter": "python",
   "pygments_lexer": "ipython3",
   "version": "3.12.2"
  }
 },
 "nbformat": 4,
 "nbformat_minor": 5
}
