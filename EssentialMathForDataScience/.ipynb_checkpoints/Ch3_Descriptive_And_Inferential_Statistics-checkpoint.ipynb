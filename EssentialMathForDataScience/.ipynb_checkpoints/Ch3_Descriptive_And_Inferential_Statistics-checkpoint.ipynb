{
 "cells": [
  {
   "cell_type": "code",
   "execution_count": 1,
   "id": "b79e02df-6fb5-44e1-be78-d6c6996bc8f5",
   "metadata": {},
   "outputs": [
    {
     "name": "stdout",
     "output_type": "stream",
     "text": [
      "2.875\n"
     ]
    }
   ],
   "source": [
    "# Example 3-1 Calculating mean in Python\n",
    "# Number of pets each person owns\n",
    "sample = [1, 3, 2, 5, 7, 0, 2, 3]\n",
    "\n",
    "mean = sum(sample)/len(sample)\n",
    "\n",
    "print(mean) # prints 2.875"
   ]
  },
  {
   "cell_type": "code",
   "execution_count": 2,
   "id": "86738fa4-958c-4f7f-b853-a69f3b512137",
   "metadata": {},
   "outputs": [
    {
     "name": "stdout",
     "output_type": "stream",
     "text": [
      "81.4\n"
     ]
    }
   ],
   "source": [
    "# Example 3-2 Calculating a weighted mean in Python\n",
    "# Three exams of .20 weight each and final exam of .40 weight\n",
    "\n",
    "sample = [90, 80, 63, 87]\n",
    "weights = [.20, .20, .20, .40]\n",
    "\n",
    "weight_mean = sum(s * w for s,w in zip(sample, weights)) / sum(weights)\n",
    "\n",
    "print(weight_mean) # print 81/4"
   ]
  },
  {
   "cell_type": "code",
   "execution_count": 3,
   "id": "719548a6-cde6-414b-a318-c559e8f2c104",
   "metadata": {},
   "outputs": [
    {
     "name": "stdout",
     "output_type": "stream",
     "text": [
      "81.4\n"
     ]
    }
   ],
   "source": [
    "# Example 3-3 Calculating a weighted mean in Python \n",
    "# Three exams of .20 weight each and final exam of .40 weight\n",
    "sample = [90, 80, 63, 87]\n",
    "weights = [1.0, 1.0, 1.0, 2.0]\n",
    "\n",
    "weight_mean = sum(s * w for s,w in zip(sample, weights)) / sum(weights)\n",
    "\n",
    "print(weight_mean) # print 81/4"
   ]
  },
  {
   "cell_type": "code",
   "execution_count": 1,
   "id": "f95b5651-6640-4099-a9ce-373a54a8e8b2",
   "metadata": {},
   "outputs": [
    {
     "name": "stdout",
     "output_type": "stream",
     "text": [
      "[0, 1, 5, 7, 9, 10, 14]\n",
      "7\n"
     ]
    }
   ],
   "source": [
    "# Example 3-4 Calculating the median in Python\n",
    "# Number of pets each person owns\n",
    "sample = [0, 1, 5, 7, 9, 10, 14]\n",
    "\n",
    "def median(values):\n",
    "    ordered = sorted(values)\n",
    "    print(ordered)\n",
    "    n = len(ordered)\n",
    "    mid = int(n/2) - 1 if n % 2 == 0 else int(n/2)\n",
    "    if n%2 == 0:\n",
    "        return (ordered[mid] + ordered[mid+1]) / 2.0\n",
    "    else:\n",
    "        return ordered[mid]\n",
    "\n",
    "print(median(sample)) #print 7"
   ]
  },
  {
   "cell_type": "code",
   "execution_count": 6,
   "id": "42eb9f03-1b16-419e-b7de-bef9118b6980",
   "metadata": {},
   "outputs": [
    {
     "name": "stdout",
     "output_type": "stream",
     "text": [
      "[2, 3]\n"
     ]
    }
   ],
   "source": [
    "# Example 3-5 Calculating the mode in Python \n",
    "# Number of pets each person wons \n",
    "from collections import defaultdict\n",
    "sample = [1, 3, 2, 5, 7, 0, 2, 3]\n",
    "\n",
    "def mode(values):\n",
    "    counts = defaultdict(lambda: 0)\n",
    "    for s in values:\n",
    "        counts[s] += 1\n",
    "    max_count = max(counts.values())\n",
    "    modes = [v for v in set(values) if counts[v]==max_count]\n",
    "    return modes\n",
    "\n",
    "print(mode(sample))"
   ]
  },
  {
   "cell_type": "code",
   "execution_count": 7,
   "id": "8cf0d102-f859-4185-95d7-b2d0df3528b7",
   "metadata": {},
   "outputs": [
    {
     "name": "stdout",
     "output_type": "stream",
     "text": [
      "21.387755102040817\n"
     ]
    }
   ],
   "source": [
    "# Example 3-6 Calculating variance in Python\n",
    "data = [0, 1, 5, 7, 9, 10, 14]\n",
    "\n",
    "def variance(values):\n",
    "    mean = sum(values) / len(values)\n",
    "    _variance = sum((v-mean)**2 for v in values) / len(values)\n",
    "    return _variance\n",
    "\n",
    "print(variance(data))"
   ]
  },
  {
   "cell_type": "code",
   "execution_count": 8,
   "id": "653bfbd3-6002-4d78-8c4d-d01c6149c049",
   "metadata": {},
   "outputs": [
    {
     "name": "stdout",
     "output_type": "stream",
     "text": [
      "4.624689730353899\n"
     ]
    }
   ],
   "source": [
    "# Example 3-7 Calculating standard deviation in Python \n",
    "from math import sqrt\n",
    "data = [0, 1, 5, 7, 9, 10, 14]\n",
    "\n",
    "def variance(values):\n",
    "    mean = sum(values) / len(values)\n",
    "    _variance = sum((v-mean)**2 for v in values) / len(values)\n",
    "    return _variance\n",
    "\n",
    "def std_dev(values):\n",
    "    return sqrt(variance(values))\n",
    "\n",
    "print(std_dev(data))"
   ]
  },
  {
   "cell_type": "code",
   "execution_count": 10,
   "id": "55ae0525-ba52-4e0f-8b57-8c525ea54a0a",
   "metadata": {},
   "outputs": [
    {
     "name": "stdout",
     "output_type": "stream",
     "text": [
      "VARIANCE = 24.952380952380953\n",
      "STD DEV = 4.995235825502231\n"
     ]
    }
   ],
   "source": [
    "# Example 3-8 Calculating standard deviation for a sample\n",
    "from math import sqrt \n",
    "\n",
    "# Number of pets each person owns\n",
    "data = [0, 1, 5, 7, 9, 10, 14]\n",
    "\n",
    "def variance(values, is_sample: bool = False):\n",
    "    mean = sum(values)/len(values)\n",
    "    _variance = sum((v-mean)**2 for v in values) / (len(values) - (1 if is_sample else 0))\n",
    "    return _variance\n",
    "\n",
    "def std_dev(values, is_sample: bool = False):\n",
    "    return sqrt(variance(values, is_sample))\n",
    "\n",
    "\n",
    "print(\"VARIANCE = {}\".format(variance(data, is_sample=True)))\n",
    "print(\"STD DEV = {}\".format(std_dev(data, is_sample=True)))"
   ]
  },
  {
   "cell_type": "code",
   "execution_count": 11,
   "id": "7dd720ce-2051-4f8e-9daf-ea713e71d06d",
   "metadata": {},
   "outputs": [],
   "source": [
    "# Example 3-9 The normal distribution function in Python\n",
    "\n",
    "# normal distribution, returns likelihood\n",
    "def normal_pdf(x: float, mean: float, std_dev: float) -> float:\n",
    "    return (1.0 / (2.0 * math.pi * std_dev ** 2) ** 0.5) * math.exp(-1.0 * ((x - mean) ** 2 / (2.0 * std_dev ** 2)))"
   ]
  },
  {
   "cell_type": "code",
   "execution_count": null,
   "id": "7b7924f7-ba7a-40bd-9797-79337be76ac5",
   "metadata": {},
   "outputs": [],
   "source": []
  }
 ],
 "metadata": {
  "kernelspec": {
   "display_name": "Python 3 (ipykernel)",
   "language": "python",
   "name": "python3"
  },
  "language_info": {
   "codemirror_mode": {
    "name": "ipython",
    "version": 3
   },
   "file_extension": ".py",
   "mimetype": "text/x-python",
   "name": "python",
   "nbconvert_exporter": "python",
   "pygments_lexer": "ipython3",
   "version": "3.12.2"
  }
 },
 "nbformat": 4,
 "nbformat_minor": 5
}
