{
 "cells": [
  {
   "cell_type": "code",
   "execution_count": 2,
   "id": "b9f66c33-9268-4d6d-aed7-7b9c7c790f6a",
   "metadata": {},
   "outputs": [
    {
     "name": "stdout",
     "output_type": "stream",
     "text": [
      "Trial(0) - 9.999999999999977e-11\n",
      "Trial(1) - 8.999999999999976e-09\n",
      "Trial(2) - 3.6449999999999933e-07\n",
      "Trial(3) - 8.747999999999988e-06\n",
      "Trial(4) - 0.00013778099999999974\n",
      "Trial(5) - 0.0014880347999999982\n",
      "Trial(6) - 0.011160260999999989\n",
      "Trial(7) - 0.05739562799999997\n",
      "Trial(8) - 0.1937102444999998\n",
      "Trial(9) - 0.38742048899999976\n",
      "Trial(10) - 0.34867844010000015\n"
     ]
    }
   ],
   "source": [
    "# Using SciPy for the binomial distribution\n",
    "from scipy.stats import binom \n",
    "\n",
    "n = 10\n",
    "p = 0.9\n",
    "\n",
    "for k in range(n + 1):\n",
    "    probability = binom.pmf(k, n, p)\n",
    "    print(\"Trial({0}) - {1}\".format(k, probability))"
   ]
  },
  {
   "cell_type": "code",
   "execution_count": 4,
   "id": "5b48e525-2088-4147-8c2c-3ed309eb511d",
   "metadata": {},
   "outputs": [
    {
     "name": "stdout",
     "output_type": "stream",
     "text": [
      "0.7748409780000002\n"
     ]
    }
   ],
   "source": [
    "# Deta distribution using SciPy\n",
    "from scipy.stats import beta\n",
    "\n",
    "a = 8 \n",
    "b = 2\n",
    "\n",
    "p = beta.cdf(.90, a, b)\n",
    "\n",
    "print(p)"
   ]
  },
  {
   "cell_type": "code",
   "execution_count": 5,
   "id": "0b8b252d-bc76-48d6-bf21-57e383daabe3",
   "metadata": {},
   "outputs": [
    {
     "name": "stdout",
     "output_type": "stream",
     "text": [
      "0.22515902199999982\n"
     ]
    }
   ],
   "source": [
    "# Subtracting to get a right area in a beta distribution\n",
    "from scipy.stats import beta\n",
    "\n",
    "a=8\n",
    "b=2\n",
    "\n",
    "p = 1.0 - beta.cdf(0.90, a, b)\n",
    "\n",
    "print(p)"
   ]
  },
  {
   "cell_type": "code",
   "execution_count": 6,
   "id": "80defa5f-ea39-4db8-a3b8-b83bbca771ac",
   "metadata": {},
   "outputs": [
    {
     "name": "stdout",
     "output_type": "stream",
     "text": [
      "0.13163577484183686\n"
     ]
    }
   ],
   "source": [
    "# Example 2-5: A beta distribution with more trials\n",
    "from scipy.stats import beta\n",
    "a = 30\n",
    "b = 6\n",
    "p = 1.0 - beta.cdf(0.90, a, b)\n",
    "print(p)"
   ]
  },
  {
   "cell_type": "code",
   "execution_count": 7,
   "id": "39004009-95ab-408f-bfcc-5fe48eae5839",
   "metadata": {},
   "outputs": [
    {
     "name": "stdout",
     "output_type": "stream",
     "text": [
      "0.3386333619999998\n"
     ]
    }
   ],
   "source": [
    "# Example 2-6: Beta distrbution middle area using SciPy\n",
    "a = 8\n",
    "b = 2\n",
    "p = beta.cdf(.90, a, b) - beta.cdf(.80, a, b)\n",
    "print(p)"
   ]
  },
  {
   "cell_type": "code",
   "execution_count": null,
   "id": "116fa264-f96b-4324-8ed0-e904d7f1dbce",
   "metadata": {},
   "outputs": [],
   "source": []
  }
 ],
 "metadata": {
  "kernelspec": {
   "display_name": "Python 3 (ipykernel)",
   "language": "python",
   "name": "python3"
  },
  "language_info": {
   "codemirror_mode": {
    "name": "ipython",
    "version": 3
   },
   "file_extension": ".py",
   "mimetype": "text/x-python",
   "name": "python",
   "nbconvert_exporter": "python",
   "pygments_lexer": "ipython3",
   "version": "3.12.2"
  }
 },
 "nbformat": 4,
 "nbformat_minor": 5
}
