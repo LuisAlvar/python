{
 "cells": [
  {
   "cell_type": "code",
   "execution_count": 3,
   "id": "b9f66c33-9268-4d6d-aed7-7b9c7c790f6a",
   "metadata": {},
   "outputs": [
    {
     "name": "stdout",
     "output_type": "stream",
     "text": [
      "Trial(0) - 9.999999999999977e-11\n",
      "Trial(1) - 8.999999999999976e-09\n",
      "Trial(2) - 3.6449999999999933e-07\n",
      "Trial(3) - 8.747999999999988e-06\n",
      "Trial(4) - 0.00013778099999999974\n",
      "Trial(5) - 0.0014880347999999982\n",
      "Trial(6) - 0.011160260999999989\n",
      "Trial(7) - 0.05739562799999997\n",
      "Trial(8) - 0.1937102444999998\n",
      "Trial(9) - 0.38742048899999976\n",
      "Trial(10) - 0.34867844010000015\n"
     ]
    }
   ],
   "source": [
    "# Using SciPy for the binomial distribution\n",
    "from scipy.stats import binom \n",
    "\n",
    "n = 10\n",
    "p = 0.9\n",
    "\n",
    "for k in range(n + 1):\n",
    "    probability = binom.pmf(k, n, p)\n",
    "    print(\"Trial({0}) - {1}\".format(k, probability))"
   ]
  },
  {
   "cell_type": "code",
   "execution_count": null,
   "id": "5b48e525-2088-4147-8c2c-3ed309eb511d",
   "metadata": {},
   "outputs": [],
   "source": []
  }
 ],
 "metadata": {
  "kernelspec": {
   "display_name": "Python 3 (ipykernel)",
   "language": "python",
   "name": "python3"
  },
  "language_info": {
   "codemirror_mode": {
    "name": "ipython",
    "version": 3
   },
   "file_extension": ".py",
   "mimetype": "text/x-python",
   "name": "python",
   "nbconvert_exporter": "python",
   "pygments_lexer": "ipython3",
   "version": "3.12.3"
  }
 },
 "nbformat": 4,
 "nbformat_minor": 5
}
