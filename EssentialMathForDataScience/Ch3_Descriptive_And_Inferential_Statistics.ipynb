{
 "cells": [
  {
   "cell_type": "code",
   "execution_count": 1,
   "id": "b79e02df-6fb5-44e1-be78-d6c6996bc8f5",
   "metadata": {},
   "outputs": [
    {
     "name": "stdout",
     "output_type": "stream",
     "text": [
      "2.875\n"
     ]
    }
   ],
   "source": [
    "# Example 3-1 Calculating mean in Python\n",
    "# Number of pets each person owns\n",
    "sample = [1, 3, 2, 5, 7, 0, 2, 3]\n",
    "\n",
    "mean = sum(sample)/len(sample)\n",
    "\n",
    "print(mean) # prints 2.875"
   ]
  },
  {
   "cell_type": "code",
   "execution_count": 2,
   "id": "86738fa4-958c-4f7f-b853-a69f3b512137",
   "metadata": {},
   "outputs": [
    {
     "name": "stdout",
     "output_type": "stream",
     "text": [
      "81.4\n"
     ]
    }
   ],
   "source": [
    "# Example 3-2 Calculating a weighted mean in Python\n",
    "# Three exams of .20 weight each and final exam of .40 weight\n",
    "\n",
    "sample = [90, 80, 63, 87]\n",
    "weights = [.20, .20, .20, .40]\n",
    "\n",
    "weight_mean = sum(s * w for s,w in zip(sample, weights)) / sum(weights)\n",
    "\n",
    "print(weight_mean) # print 81/4"
   ]
  },
  {
   "cell_type": "code",
   "execution_count": 3,
   "id": "719548a6-cde6-414b-a318-c559e8f2c104",
   "metadata": {},
   "outputs": [
    {
     "name": "stdout",
     "output_type": "stream",
     "text": [
      "81.4\n"
     ]
    }
   ],
   "source": [
    "# Example 3-3 Calculating a weighted mean in Python \n",
    "# Three exams of .20 weight each and final exam of .40 weight\n",
    "sample = [90, 80, 63, 87]\n",
    "weights = [1.0, 1.0, 1.0, 2.0]\n",
    "\n",
    "weight_mean = sum(s * w for s,w in zip(sample, weights)) / sum(weights)\n",
    "\n",
    "print(weight_mean) # print 81/4"
   ]
  },
  {
   "cell_type": "code",
   "execution_count": null,
   "id": "f95b5651-6640-4099-a9ce-373a54a8e8b2",
   "metadata": {},
   "outputs": [],
   "source": []
  }
 ],
 "metadata": {
  "kernelspec": {
   "display_name": "Python 3 (ipykernel)",
   "language": "python",
   "name": "python3"
  },
  "language_info": {
   "codemirror_mode": {
    "name": "ipython",
    "version": 3
   },
   "file_extension": ".py",
   "mimetype": "text/x-python",
   "name": "python",
   "nbconvert_exporter": "python",
   "pygments_lexer": "ipython3",
   "version": "3.12.2"
  }
 },
 "nbformat": 4,
 "nbformat_minor": 5
}
